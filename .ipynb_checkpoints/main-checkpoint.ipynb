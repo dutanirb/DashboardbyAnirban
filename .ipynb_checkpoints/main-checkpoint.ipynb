{
 "cells": [
  {
   "cell_type": "code",
   "execution_count": 1,
   "id": "69e5ca29",
   "metadata": {},
   "outputs": [],
   "source": [
    "import pandas as pd\n",
    "import Anirban as dutta\n",
    "import folium"
   ]
  },
  {
   "cell_type": "code",
   "execution_count": 2,
   "id": "766256cb",
   "metadata": {},
   "outputs": [],
   "source": [
    "data = pd.read_csv('life_expectancy.csv')"
   ]
  },
  {
   "cell_type": "code",
   "execution_count": 3,
   "id": "a99e213f",
   "metadata": {},
   "outputs": [
    {
     "name": "stderr",
     "output_type": "stream",
     "text": [
      "C:\\Users\\ANIRBAN DUTTA\\Custom_Dashboard\\Anirban.py:6: FutureWarning: In a future version of pandas all arguments of DataFrame.drop except for the argument 'labels' will be keyword-only\n",
      "  self.X = self.train.drop(self.y,1)\n"
     ]
    },
    {
     "data": {
      "application/vnd.jupyter.widget-view+json": {
       "model_id": "87ae83fe038f4f96a67b1513249e02c3",
       "version_major": 2,
       "version_minor": 0
      },
      "text/plain": [
       "HTML(value=\"<h2>Welcome to Anirban's Dashboard </h2>\")"
      ]
     },
     "metadata": {},
     "output_type": "display_data"
    },
    {
     "data": {
      "application/vnd.jupyter.widget-view+json": {
       "model_id": "ac348b16840642c1b63c924f843ff8a2",
       "version_major": 2,
       "version_minor": 0
      },
      "text/plain": [
       "Tab(children=(Output(), Output(), Output(), Output(), Output(), Output(), Output(), Output(), Output()), _titl…"
      ]
     },
     "metadata": {},
     "output_type": "display_data"
    }
   ],
   "source": [
    "def interactive_dashboard():\n",
    "    target = dutta.Anirban_Dashboard(data, c = None, y = \"Result\")\n",
    "    charts = target.make_charts()\n",
    "    return charts\n",
    "interactive_dashboard()"
   ]
  },
  {
   "cell_type": "code",
   "execution_count": null,
   "id": "4ea44d8e",
   "metadata": {},
   "outputs": [],
   "source": [
    "def data_cleaning():\n",
    "    data.dropna(subset=['latitude'], how='all', inplace=True)\n",
    "    data['latitude'].isnull().values.sum()\n",
    "    data.dropna(subset=['longitude'], how='all', inplace=True)\n",
    "    data['longitude'].isnull().values.sum()\n",
    "data_cleaning()"
   ]
  },
  {
   "cell_type": "code",
   "execution_count": null,
   "id": "59f2bfd0",
   "metadata": {},
   "outputs": [],
   "source": [
    "def interactive_dashboard():\n",
    "    latmean=data['latitude'].mean()\n",
    "    lonmean=data['longitude'].mean()\n",
    "    map_dash = folium.Map(location=[latmean,lonmean],zoom_start=3)\n",
    "    for lat,lan,name,elev in zip(data['latitude'],data['longitude'],data['Country'],data['continent']):\n",
    "        folium.Marker(location=[lat,lan],popup = name,icon= folium.Icon(color='darkgreen',icon_color='yellow',icon = 'cloud')).add_to(map_dash)\n",
    "    Title = print(\"Map Showing Countries from where data is taken\")\n",
    "    return map_dash\n",
    "interactive_dashboard()"
   ]
  }
 ],
 "metadata": {
  "kernelspec": {
   "display_name": "Python 3 (ipykernel)",
   "language": "python",
   "name": "python3"
  },
  "language_info": {
   "codemirror_mode": {
    "name": "ipython",
    "version": 3
   },
   "file_extension": ".py",
   "mimetype": "text/x-python",
   "name": "python",
   "nbconvert_exporter": "python",
   "pygments_lexer": "ipython3",
   "version": "3.9.6"
  }
 },
 "nbformat": 4,
 "nbformat_minor": 5
}
